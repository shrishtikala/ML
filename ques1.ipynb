{
  "nbformat": 4,
  "nbformat_minor": 0,
  "metadata": {
    "colab": {
      "name": "ques1.ipynb",
      "version": "0.3.2",
      "provenance": [],
      "collapsed_sections": [],
      "include_colab_link": true
    },
    "kernelspec": {
      "name": "python3",
      "display_name": "Python 3"
    }
  },
  "cells": [
    {
      "cell_type": "markdown",
      "metadata": {
        "id": "view-in-github",
        "colab_type": "text"
      },
      "source": [
        "<a href=\"https://colab.research.google.com/github/shrishtikala/ML/blob/master/ques1.ipynb\" target=\"_parent\"><img src=\"https://colab.research.google.com/assets/colab-badge.svg\" alt=\"Open In Colab\"/></a>"
      ]
    },
    {
      "cell_type": "code",
      "metadata": {
        "id": "HVvHRMWbqMGh",
        "colab_type": "code",
        "colab": {}
      },
      "source": [
        "import numpy as np\n"
      ],
      "execution_count": 0,
      "outputs": []
    },
    {
      "cell_type": "code",
      "metadata": {
        "id": "9-Yf8Bb-uv5S",
        "colab_type": "code",
        "colab": {
          "base_uri": "https://localhost:8080/",
          "height": 156
        },
        "outputId": "8e30d7e3-cdad-4b82-c52d-5d3a3a82843e"
      },
      "source": [
        "a=int(input(\"enter row: \"))\n",
        "b=int(input(\"enter column: \"))\n",
        "x=np.random.randint(4,size=(a,b))\n",
        "x"
      ],
      "execution_count": 22,
      "outputs": [
        {
          "output_type": "stream",
          "text": [
            "enter row: 6\n",
            "enter column: 7\n"
          ],
          "name": "stdout"
        },
        {
          "output_type": "execute_result",
          "data": {
            "text/plain": [
              "array([[0, 0, 3, 0, 3, 0, 2],\n",
              "       [2, 0, 2, 0, 3, 0, 3],\n",
              "       [0, 3, 0, 0, 2, 0, 0],\n",
              "       [2, 2, 0, 0, 2, 3, 0],\n",
              "       [2, 2, 2, 3, 2, 1, 0],\n",
              "       [3, 2, 2, 1, 1, 1, 3]])"
            ]
          },
          "metadata": {
            "tags": []
          },
          "execution_count": 22
        }
      ]
    },
    {
      "cell_type": "code",
      "metadata": {
        "id": "xozH9Rzmu4kC",
        "colab_type": "code",
        "colab": {
          "base_uri": "https://localhost:8080/",
          "height": 156
        },
        "outputId": "063d612b-2a70-4b40-afb9-b69d6113fb0e"
      },
      "source": [
        "np.savetxt('file2.txt',x,fmt='%i',delimiter=',')\n",
        "a=open('file2.txt','r')\n",
        "print(\"the file contains: \")\n",
        "print(a.read())"
      ],
      "execution_count": 24,
      "outputs": [
        {
          "output_type": "stream",
          "text": [
            "the file contains: \n",
            "0,0,3,0,3,0,2\n",
            "2,0,2,0,3,0,3\n",
            "0,3,0,0,2,0,0\n",
            "2,2,0,0,2,3,0\n",
            "2,2,2,3,2,1,0\n",
            "3,2,2,1,1,1,3\n",
            "\n"
          ],
          "name": "stdout"
        }
      ]
    }
  ]
}