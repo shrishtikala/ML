{
  "nbformat": 4,
  "nbformat_minor": 0,
  "metadata": {
    "colab": {
      "name": "prac1.ipynb",
      "version": "0.3.2",
      "provenance": [],
      "collapsed_sections": [],
      "include_colab_link": true
    },
    "kernelspec": {
      "name": "python3",
      "display_name": "Python 3"
    }
  },
  "cells": [
    {
      "cell_type": "markdown",
      "metadata": {
        "id": "view-in-github",
        "colab_type": "text"
      },
      "source": [
        "<a href=\"https://colab.research.google.com/github/shrishtikala/ML/blob/master/prac1.ipynb\" target=\"_parent\"><img src=\"https://colab.research.google.com/assets/colab-badge.svg\" alt=\"Open In Colab\"/></a>"
      ]
    },
    {
      "cell_type": "code",
      "metadata": {
        "id": "J3Xiequ0TVDB",
        "colab_type": "code",
        "outputId": "133394c5-2795-42b2-a16c-6866785b0862",
        "colab": {
          "base_uri": "https://localhost:8080/",
          "height": 300
        }
      },
      "source": [
        "import matplotlib.pyplot as plt\n",
        "# only loading python oriented library\n",
        "# to create graph\n",
        "x=[2,3]\n",
        "x1=[4,3,8]\n",
        "y1=[2,9,7]\n",
        "y=[9,5]\n",
        "plt.xlabel(\"time\")\n",
        "plt.ylabel(\"speed\")\n",
        "plt.plot(x,y,label=\"water\")# this will draw  a straight line\n",
        "plt.plot(x1,y1,label=\"sand\")\n",
        "plt.bar(x1,y1)  # to plot bar graphs\n",
        "plt.bar(x,y)\n",
        "plt.grid(color=\"green\") # to form grid in graph\n",
        "plt.legend()# to show labels with plot\n",
        "plt.xlim(0,12)  # to show min and mox number in x axis\n",
        "plt.ylim(0,15)  # \" \"  \" \"  in y axis\n",
        "#plt.show()\n",
        "\n",
        "\n"
      ],
      "execution_count": 0,
      "outputs": [
        {
          "output_type": "execute_result",
          "data": {
            "text/plain": [
              "(0, 15)"
            ]
          },
          "metadata": {
            "tags": []
          },
          "execution_count": 20
        },
        {
          "output_type": "display_data",
          "data": {
            "image/png": "[encoded data removed]",
            "text/plain": [
              "<Figure size 432x288 with 1 Axes>"
            ]
          },
          "metadata": {
            "tags": []
          }
        }
      ]
    },
    {
      "cell_type": "code",
      "metadata": {
        "id": "rpCuDkk5TiSt",
        "colab_type": "code",
        "outputId": "38b4712a-faa0-4ca0-a1dc-ad7a5b68d7e8",
        "colab": {
          "base_uri": "https://localhost:8080/",
          "height": 318
        }
      },
      "source": [
        "import matplotlib.pyplot as plt\n",
        "# only loading python oriented library\n",
        "# to create graph\n",
        "player = [\"shrishti\",\"akanksha\",\"sim\"]\n",
        "runs=[200,10,0]\n",
        "plt.xlabel(\"player\")\n",
        "plt.ylabel(\"score\")\n",
        "plt.plot(player,runs)# this will draw  a straight line\n",
        "\n",
        "plt.bar(player,runs)  # to plot bar graphs\n",
        "\n",
        "plt.grid(color=\"green\") # to form grid in graph\n",
        "plt.legend()# to show labels with plot\n",
        "  # to show min and mox number in x axis\n",
        "  # \" \"  \" \"  in y axis\n",
        "#plt.show()\n"
      ],
      "execution_count": 0,
      "outputs": [
        {
          "output_type": "stream",
          "text": [
            "No handles with labels found to put in legend.\n"
          ],
          "name": "stderr"
        },
        {
          "output_type": "execute_result",
          "data": {
            "text/plain": [
              "<matplotlib.legend.Legend at 0x7f6dd9ad0c18>"
            ]
          },
          "metadata": {
            "tags": []
          },
          "execution_count": 24
        },
        {
          "output_type": "display_data",
          "data": {
            "image/png": "[encoded data removed]",
            "text/plain": [
              "<Figure size 432x288 with 1 Axes>"
            ]
          },
          "metadata": {
            "tags": []
          }
        }
      ]
    }
  ]
}