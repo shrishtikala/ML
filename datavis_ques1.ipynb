{
  "nbformat": 4,
  "nbformat_minor": 0,
  "metadata": {
    "colab": {
      "name": "datavis_ques1.ipynb",
      "version": "0.3.2",
      "provenance": [],
      "include_colab_link": true
    },
    "kernelspec": {
      "name": "python3",
      "display_name": "Python 3"
    }
  },
  "cells": [
    {
      "cell_type": "markdown",
      "metadata": {
        "id": "view-in-github",
        "colab_type": "text"
      },
      "source": [
        "<a href=\"https://colab.research.google.com/github/shrishtikala/ML/blob/master/datavis_ques1.ipynb\" target=\"_parent\"><img src=\"https://colab.research.google.com/assets/colab-badge.svg\" alt=\"Open In Colab\"/></a>"
      ]
    },
    {
      "cell_type": "code",
      "metadata": {
        "id": "b5fgjpFvnFqt",
        "colab_type": "code",
        "colab": {}
      },
      "source": [
        "import pandas as pd\n",
        "import matplotlib.pyplot as plt"
      ],
      "execution_count": 0,
      "outputs": []
    },
    {
      "cell_type": "code",
      "metadata": {
        "id": "OalSduKDgVTy",
        "colab_type": "code",
        "colab": {}
      },
      "source": [
        "#reading data from the file\n",
        "df=pd.read_csv('student.csv')"
      ],
      "execution_count": 0,
      "outputs": []
    },
    {
      "cell_type": "code",
      "metadata": {
        "id": "MvCe5_Q6gxm4",
        "colab_type": "code",
        "colab": {}
      },
      "source": [
        "#info data structure\n",
        "df.info()"
      ],
      "execution_count": 0,
      "outputs": []
    },
    {
      "cell_type": "code",
      "metadata": {
        "id": "jh3H454UikKp",
        "colab_type": "code",
        "colab": {
          "base_uri": "https://localhost:8080/",
          "height": 463
        },
        "outputId": "0e284484-dfec-4f49-fa00-c56f19ba6f59"
      },
      "source": [
        "#ploting pie chart\n",
        "mark=df['Marks']\n",
        "name=df['Name']\n",
        "age=df['Age']\n",
        "exp=(0,0,0,0.1)\n",
        "plt.pie(mark,labels=name,shadow=True,explode=exp,autopct='%1.1f%%')"
      ],
      "execution_count": 26,
      "outputs": [
        {
          "output_type": "execute_result",
          "data": {
            "text/plain": [
              "([<matplotlib.patches.Wedge at 0x7fb19d25b048>,\n",
              "  <matplotlib.patches.Wedge at 0x7fb19d25ba20>,\n",
              "  <matplotlib.patches.Wedge at 0x7fb19d264400>,\n",
              "  <matplotlib.patches.Wedge at 0x7fb19d264da0>],\n",
              " [Text(0.9576399480913053, 0.541226135565978, 'Robin Hood'),\n",
              "  Text(-0.39514792072803023, 1.0265759205944365, 'Arsene Wenger'),\n",
              "  Text(-0.962571128889936, -0.5324066320281468, 'Friar Tuck'),\n",
              "  Text(0.7283255188712898, -0.9536990817657667, 'Little John')],\n",
              " [Text(0.5223490625952574, 0.29521425576326066, '16.4%'),\n",
              "  Text(-0.21553522948801646, 0.5599505021424198, '28.9%'),\n",
              "  Text(-0.5250387975763287, -0.2904036174698982, '25.4%'),\n",
              "  Text(0.42485655267491906, -0.5563244643633638, '29.2%')])"
            ]
          },
          "metadata": {
            "tags": []
          },
          "execution_count": 26
        },
        {
          "output_type": "display_data",
          "data": {
            "image/png": "[encoded data removed]",
            "text/plain": [
              "<Figure size 432x288 with 1 Axes>"
            ]
          },
          "metadata": {
            "tags": []
          }
        }
      ]
    },
    {
      "cell_type": "code",
      "metadata": {
        "id": "o_JTF2AUjwyG",
        "colab_type": "code",
        "colab": {}
      },
      "source": [
        ""
      ],
      "execution_count": 0,
      "outputs": []
    }
  ]
}